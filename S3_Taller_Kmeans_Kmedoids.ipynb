{
 "cells": [
  {
   "cell_type": "markdown",
   "id": "b15ccdfe",
   "metadata": {},
   "source": [
    "<div >\n",
    "<img src = \"figs/taller-meca-aprendizaje no supervisado_banner 1169 x 200 px -05.png\" />\n",
    "</div>"
   ]
  },
  {
   "cell_type": "markdown",
   "id": "47354e6a",
   "metadata": {},
   "source": [
    "# Caso-taller: Reconocimiento facial con K-medias y K-medoides"
   ]
  },
  {
   "cell_type": "markdown",
   "id": "b4e5a2c6",
   "metadata": {},
   "source": [
    "En este caso-taller vamos a aplicar K-medias y K-medoides para agrupar rostros de indiviudos. Utilizaremos la base de datos conocida como Caras Olivetti. Esta base contiene diez imágenes diferentes de  40 personas distintas. Para algunas personas, las imágenes se tomaron en diferentes momentos, variando la iluminación, las expresiones faciales (ojos abiertos/cerrados, sonriendo/sin sonreír) y los detalles faciales (gafas/sin gafas). Todas las imágenes fueron tomadas contra un fondo homogéneo oscuro con los sujetos en una posición frontal erguida (con tolerancia a algún movimiento lateral). Esta base viene incluida dentro de la libraría `scikit-learn` y fueron provistas por T&T Laboratories Cambridge para que la comunidad académica la utilice para la evaluación de modelos predictivos. "
   ]
  },
  {
   "cell_type": "markdown",
   "id": "8662254f",
   "metadata": {},
   "source": [
    "## Instrucciones generales\n",
    "\n",
    "1. Para desarrollar el *cuaderno* primero debe descargarlo.\n",
    "\n",
    "2. Para responder cada inciso deberá utilizar el espacio debidamente especificado.\n",
    "\n",
    "3. La actividad será calificada sólo si sube el *cuaderno* de jupyter notebook con extensión `.ipynb` en la actividad designada como \"entrega calificada por el personal\".\n",
    "\n",
    "4. El archivo entregado debe poder ser ejecutado localmente por el tutor. Sea cuidadoso con la especificación de la ubicación de los archivos de soporte, guarde la carpeta de datos en el mismo `path` de su cuaderno, por ejemplo: `data`."
   ]
  },
  {
   "cell_type": "markdown",
   "id": "4e276447",
   "metadata": {},
   "source": [
    "## Desarrollo\n"
   ]
  },
  {
   "cell_type": "markdown",
   "id": "27c20fcc",
   "metadata": {},
   "source": [
    "### 1.Carga de datos \n",
    "\n",
    "Los datos pueden ser bajados directamente utilizando la librería `scikit-learn`,  la función que le permite hacer esto es `fetch_olivetti_faces`. "
   ]
  },
  {
   "cell_type": "code",
   "execution_count": 19,
   "id": "619699fe",
   "metadata": {},
   "outputs": [],
   "source": [
    "# Utilice este espacio para escribir el código."
   ]
  },
  {
   "cell_type": "markdown",
   "id": "369b8af7",
   "metadata": {},
   "source": [
    "(Utilice este espacio para describir su procedimiento)."
   ]
  },
  {
   "cell_type": "markdown",
   "id": "d3384326",
   "metadata": {},
   "source": [
    "### 2.  Análisis preliminar \n",
    "\n",
    "#### 2.1. Describa los contenidos de la base de datos, tenga en cuenta que debe detallar los elementos, la dimensión de la base, y la dimensión de las imágenes. Genere una figura con una imagen de cada uno de los individuos"
   ]
  },
  {
   "cell_type": "code",
   "execution_count": 20,
   "id": "6bd9539d",
   "metadata": {},
   "outputs": [],
   "source": [
    "# Utilice este espacio para escribir el código."
   ]
  },
  {
   "cell_type": "markdown",
   "id": "9055af97",
   "metadata": {},
   "source": [
    "(Utilice este espacio para describir el procedimiento, análisis y conclusiones)"
   ]
  },
  {
   "cell_type": "markdown",
   "id": "1da2a2e4",
   "metadata": {},
   "source": [
    "#### 2.2. Genere una figura con una imagen de cada uno de los individuos"
   ]
  },
  {
   "cell_type": "code",
   "execution_count": 21,
   "id": "fb694e34",
   "metadata": {},
   "outputs": [],
   "source": [
    "# Utilice este espacio para escribir el código."
   ]
  },
  {
   "cell_type": "markdown",
   "id": "9ec7bd37",
   "metadata": {},
   "source": [
    "(Utilice este espacio para describir el procedimiento, análisis y conclusiones)"
   ]
  },
  {
   "cell_type": "markdown",
   "id": "e17181cb",
   "metadata": {},
   "source": [
    "#### 2.3. Transforme las imágenes en un data frame donde cada columna contiene los valores estandarizados del nivel de gris en la imagen y una columna con la etiqueta de cada imagen. "
   ]
  },
  {
   "cell_type": "code",
   "execution_count": 22,
   "id": "7e27a226",
   "metadata": {},
   "outputs": [],
   "source": [
    "# Utilice este espacio para escribir el código."
   ]
  },
  {
   "cell_type": "markdown",
   "id": "98855f98",
   "metadata": {},
   "source": [
    "(Utilice este espacio para describir el procedimiento, análisis y conclusiones)"
   ]
  },
  {
   "cell_type": "markdown",
   "id": "35b19843",
   "metadata": {},
   "source": [
    "### 3. Clasificando de forma no supervisada\n",
    "\n",
    "En esta sección trataremos de clasificar las imágenes de los individuos de forma no supervisada. Para ello utilizaremos los algoritmos de k-medias y k-medoides. Dado que sabemos que el dataset consta de 40 personas diferentes, utilizaremos esta información para pedirle a los algoritmos encuentren k=40 clusters y examinaremos su precisión .\n"
   ]
  },
  {
   "cell_type": "markdown",
   "id": "74163024",
   "metadata": {},
   "source": [
    "#### 3.1. Implemente k-medias sobre los datos estandarizados en el punto anterior. Al implementar utilice  `random_state=123` y `n_init=10`. (Esto puede tomar mucho tiempo y requerir mucho RAM, puede aprovechar los recursos de [Google Colab](https://colab.research.google.com/))"
   ]
  },
  {
   "cell_type": "code",
   "execution_count": 24,
   "id": "4a806c7b",
   "metadata": {},
   "outputs": [],
   "source": [
    "# Utilice este espacio para escribir el código."
   ]
  },
  {
   "cell_type": "markdown",
   "id": "5c7dabae",
   "metadata": {},
   "source": [
    "(Utilice este espacio para describir el procedimiento, análisis y conclusiones)"
   ]
  },
  {
   "cell_type": "markdown",
   "id": "607b4dd2",
   "metadata": {},
   "source": [
    "#### 3.2. Evalúe la precisión del algoritmo para agrupar las imágenes de los individuos. "
   ]
  },
  {
   "cell_type": "code",
   "execution_count": 25,
   "id": "4cf7fcd4",
   "metadata": {},
   "outputs": [],
   "source": [
    "# Utilice este espacio para escribir el código."
   ]
  },
  {
   "cell_type": "markdown",
   "id": "0e3c6db2",
   "metadata": {},
   "source": [
    "(Utilice este espacio para describir el procedimiento, análisis y conclusiones)"
   ]
  },
  {
   "cell_type": "markdown",
   "id": "93b16ab1",
   "metadata": {},
   "source": [
    "#### 3.3. Usando PCA reduzca la dimensión de la matriz de predictores. Retenga el numero de componentes que explican el 95% de la varianza y vuelva a utilizar k-medias para clasificar las imágenes comentado si la precisión mejoró. "
   ]
  },
  {
   "cell_type": "code",
   "execution_count": 26,
   "id": "af5b6e1d",
   "metadata": {},
   "outputs": [],
   "source": [
    "# Utilice este espacio para escribir el código."
   ]
  },
  {
   "cell_type": "markdown",
   "id": "f13f2050",
   "metadata": {},
   "source": [
    "(Utilice este espacio para describir el procedimiento, análisis y conclusiones)"
   ]
  },
  {
   "cell_type": "markdown",
   "id": "835e04d0",
   "metadata": {},
   "source": [
    "#### 3.4. Utilice ahora el algoritmo por  K-medoides (use el mismo random state a los puntos anteriores), comente si mejoró la precisión total y para cada grupo de imágenes."
   ]
  },
  {
   "cell_type": "code",
   "execution_count": 27,
   "id": "7586dfc8",
   "metadata": {},
   "outputs": [],
   "source": [
    "# Utilice este espacio para escribir el código."
   ]
  },
  {
   "cell_type": "markdown",
   "id": "a27d6f0b",
   "metadata": {},
   "source": [
    "(Utilice este espacio para describir el procedimiento, análisis y conclusiones)"
   ]
  },
  {
   "cell_type": "markdown",
   "id": "27db0b31",
   "metadata": {},
   "source": [
    "### 4. Número de clusters óptimo\n",
    "\n",
    "En el punto anteriores utilizamos nuestro conocimiento previo sobre los datos para elegir el número de clusters. En este punto, verifique si 40 es realmente el número de cluster que usted elegiría según los criterios estudiados en los cuadernos teóricos. Discuta los resultados obtenidos."
   ]
  },
  {
   "cell_type": "code",
   "execution_count": 28,
   "id": "7445aac0",
   "metadata": {},
   "outputs": [],
   "source": [
    "# Utilice este espacio para escribir el código."
   ]
  },
  {
   "cell_type": "markdown",
   "id": "ac26f579",
   "metadata": {},
   "source": [
    "(Utilice este espacio para describir el procedimiento, análisis y conclusiones)"
   ]
  }
 ],
 "metadata": {
  "kernelspec": {
   "display_name": "Python 3 (ipykernel)",
   "language": "python",
   "name": "python3"
  },
  "language_info": {
   "codemirror_mode": {
    "name": "ipython",
    "version": 3
   },
   "file_extension": ".py",
   "mimetype": "text/x-python",
   "name": "python",
   "nbconvert_exporter": "python",
   "pygments_lexer": "ipython3",
   "version": "3.11.7"
  },
  "toc": {
   "base_numbering": 1,
   "nav_menu": {},
   "number_sections": true,
   "sideBar": true,
   "skip_h1_title": false,
   "title_cell": "Table of Contents",
   "title_sidebar": "Contents",
   "toc_cell": false,
   "toc_position": {},
   "toc_section_display": true,
   "toc_window_display": false
  }
 },
 "nbformat": 4,
 "nbformat_minor": 5
}
